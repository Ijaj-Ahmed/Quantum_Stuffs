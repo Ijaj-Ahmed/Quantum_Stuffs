{
 "cells": [
  {
   "cell_type": "code",
   "execution_count": 2,
   "id": "d9757ef0",
   "metadata": {},
   "outputs": [],
   "source": [
    "from qiskit import *\n",
    "from qiskit.algorithms import Shor"
   ]
  },
  {
   "cell_type": "code",
   "execution_count": 6,
   "id": "6cfe2901",
   "metadata": {},
   "outputs": [
    {
     "name": "stdout",
     "output_type": "stream",
     "text": [
      "Factors:  [[3, 5]]\n"
     ]
    }
   ],
   "source": [
    "quantum_instance = Aer.get_backend('qasm_simulator')\n",
    "shor = Shor(quantum_instance = quantum_instance)\n",
    "\n",
    "result = shor.factor(N = 15, a = 7)\n",
    "print(\"Factors: \", result.factors)"
   ]
  },
  {
   "cell_type": "code",
   "execution_count": null,
   "id": "a8214427",
   "metadata": {},
   "outputs": [],
   "source": []
  }
 ],
 "metadata": {
  "kernelspec": {
   "display_name": "Python 3 (ipykernel)",
   "language": "python",
   "name": "python3"
  },
  "language_info": {
   "codemirror_mode": {
    "name": "ipython",
    "version": 3
   },
   "file_extension": ".py",
   "mimetype": "text/x-python",
   "name": "python",
   "nbconvert_exporter": "python",
   "pygments_lexer": "ipython3",
   "version": "3.8.8"
  }
 },
 "nbformat": 4,
 "nbformat_minor": 5
}
